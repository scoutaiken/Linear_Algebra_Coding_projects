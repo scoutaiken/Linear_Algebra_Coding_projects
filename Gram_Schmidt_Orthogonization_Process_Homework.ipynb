{
  "nbformat": 4,
  "nbformat_minor": 0,
  "metadata": {
    "colab": {
      "name": "Gram-Schmidt Orthogonization Process Homework.ipynb",
      "provenance": [],
      "authorship_tag": "ABX9TyPHBQLWEkvdowu/RTZimY/9",
      "include_colab_link": true
    },
    "kernelspec": {
      "name": "python3",
      "display_name": "Python 3"
    },
    "language_info": {
      "name": "python"
    }
  },
  "cells": [
    {
      "cell_type": "markdown",
      "metadata": {
        "id": "view-in-github",
        "colab_type": "text"
      },
      "source": [
        "<a href=\"https://colab.research.google.com/github/scoutaiken/Linear_Algebra_Coding_projects/blob/main/Gram_Schmidt_Orthogonization_Process_Homework.ipynb\" target=\"_parent\"><img src=\"https://colab.research.google.com/assets/colab-badge.svg\" alt=\"Open In Colab\"/></a>"
      ]
    },
    {
      "cell_type": "code",
      "metadata": {
        "id": "ix-ggOyp0Aig"
      },
      "source": [
        "import matplotlib.pyplot as plt\n",
        "from sympy import Poly\n",
        "import sympy as sym\n",
        "import numpy as np\n",
        "from numpy import c_\n",
        "\n",
        "# We'll specify that x and t are variables:\n",
        "x, t = sym.symbols('x, t')\n",
        "\n",
        "ll = \"loaded\""
      ],
      "execution_count": null,
      "outputs": []
    },
    {
      "cell_type": "code",
      "metadata": {
        "colab": {
          "base_uri": "https://localhost:8080/"
        },
        "id": "3_wK0Dti0uXJ",
        "outputId": "f6765d4d-a06e-4114-9799-ed3e9a9a64e6"
      },
      "source": [
        "# create a vector:\n",
        "r = np.matrix('3; 0; 3; 0')\n",
        "r"
      ],
      "execution_count": null,
      "outputs": [
        {
          "output_type": "execute_result",
          "data": {
            "text/plain": [
              "matrix([[3],\n",
              "        [0],\n",
              "        [3],\n",
              "        [0]])"
            ]
          },
          "metadata": {},
          "execution_count": 3
        }
      ]
    },
    {
      "cell_type": "code",
      "metadata": {
        "colab": {
          "base_uri": "https://localhost:8080/"
        },
        "id": "BaeroQpO1bB9",
        "outputId": "ad81c8f9-98b7-4c3f-e9db-6df6f2b09030"
      },
      "source": [
        "# create a vector as an array:\n",
        "s = np.array([3, 0, 3, 0])\n",
        "s"
      ],
      "execution_count": null,
      "outputs": [
        {
          "output_type": "execute_result",
          "data": {
            "text/plain": [
              "array([3, 0, 3, 0])"
            ]
          },
          "metadata": {},
          "execution_count": 5
        }
      ]
    },
    {
      "cell_type": "code",
      "metadata": {
        "colab": {
          "base_uri": "https://localhost:8080/"
        },
        "id": "XdWf1ei-2e1F",
        "outputId": "02f83d01-60ef-446b-aace-c61c1947ea4f"
      },
      "source": [
        "s.dot(s)"
      ],
      "execution_count": null,
      "outputs": [
        {
          "output_type": "execute_result",
          "data": {
            "text/plain": [
              "18"
            ]
          },
          "metadata": {},
          "execution_count": 6
        }
      ]
    },
    {
      "cell_type": "code",
      "metadata": {
        "colab": {
          "base_uri": "https://localhost:8080/"
        },
        "id": "h6ik4Rtt2qDg",
        "outputId": "13399e0f-f1b1-4cd8-a8d3-a1cb23d67e76"
      },
      "source": [
        "# the size of s:\n",
        "np.sqrt(s.dot(s))"
      ],
      "execution_count": null,
      "outputs": [
        {
          "output_type": "execute_result",
          "data": {
            "text/plain": [
              "5.477225575051661"
            ]
          },
          "metadata": {},
          "execution_count": 16
        }
      ]
    },
    {
      "cell_type": "markdown",
      "metadata": {
        "id": "w-13CIWQ3VTQ"
      },
      "source": [
        "Using the Gram-Schmidt Orthonormalization Process"
      ]
    },
    {
      "cell_type": "code",
      "metadata": {
        "id": "nZ4fQYfE3iV6"
      },
      "source": [
        "# the messy vectors:\n",
        "r1 = np.array([3, 0, 3, 0])\n",
        "r2 = np.array([3, 2, 3, 3])\n",
        "r3 = np.array([-7, -4, -5, -6])\n",
        "r4 = np.array([-7, -3, -11, 2])"
      ],
      "execution_count": null,
      "outputs": []
    },
    {
      "cell_type": "code",
      "metadata": {
        "colab": {
          "base_uri": "https://localhost:8080/"
        },
        "id": "i8SSVOgg4FOi",
        "outputId": "f6c3c0ab-3e59-44ee-8a14-f03cb942c0a4"
      },
      "source": [
        "# Find the first nice basis vector:\n",
        "t1 = r1\n",
        "# Subtract off the nice basis vectors (nothing yet):\n",
        "\n",
        "# Find the size of t1:\n",
        "n1 = np.sqrt(t1.dot(t1))\n",
        "\n",
        "# So u1 = (1/n1) * t1\n",
        "u1 = (1/n1) * t1\n",
        "n1"
      ],
      "execution_count": null,
      "outputs": [
        {
          "output_type": "execute_result",
          "data": {
            "text/plain": [
              "4.242640687119285"
            ]
          },
          "metadata": {},
          "execution_count": 7
        }
      ]
    },
    {
      "cell_type": "code",
      "metadata": {
        "colab": {
          "base_uri": "https://localhost:8080/"
        },
        "id": "t29D7B_h5Fs5",
        "outputId": "a752ffc5-8af5-40e4-fee6-165082df1714"
      },
      "source": [
        "# Verify that u1 is size 1 and is othoganal to all other u vectors\n",
        "u1.dot(u1)"
      ],
      "execution_count": null,
      "outputs": [
        {
          "output_type": "execute_result",
          "data": {
            "text/plain": [
              "1.0000000000000002"
            ]
          },
          "metadata": {},
          "execution_count": 9
        }
      ]
    },
    {
      "cell_type": "code",
      "metadata": {
        "colab": {
          "base_uri": "https://localhost:8080/"
        },
        "id": "7JdUIGvf5hMM",
        "outputId": "ad508427-388d-4a61-dfb0-40a5333c425f"
      },
      "source": [
        "# Find the second nice basis vector:\n",
        "t2 = r2 - (r2.dot(u1)) * u1\n",
        "# Subtract off the nice basis vectors:\n",
        "\n",
        "# Find the size of t2:\n",
        "n2 = np.sqrt(t2.dot(t2))\n",
        "\n",
        "# So u2 = (1/n2) * t2\n",
        "u2 = (1/n2) * t2\n",
        "u2"
      ],
      "execution_count": null,
      "outputs": [
        {
          "output_type": "execute_result",
          "data": {
            "text/plain": [
              "array([-1.23168186e-16,  5.54700196e-01, -1.23168186e-16,  8.32050294e-01])"
            ]
          },
          "metadata": {},
          "execution_count": 10
        }
      ]
    },
    {
      "cell_type": "code",
      "metadata": {
        "colab": {
          "base_uri": "https://localhost:8080/"
        },
        "id": "xOGDjvXg6ntY",
        "outputId": "4ecd31e7-7ea8-49cd-f987-475878a5d8d1"
      },
      "source": [
        "print(\"The sqaured size of u2 = \", u2.dot(u2))\n",
        "print(\"u2*u1 =\", u2.dot(u1))"
      ],
      "execution_count": null,
      "outputs": [
        {
          "output_type": "stream",
          "name": "stdout",
          "text": [
            "The sqaured size of u2 =  1.0\n",
            "u2*u1 = -1.741861189847285e-16\n"
          ]
        }
      ]
    },
    {
      "cell_type": "code",
      "metadata": {
        "colab": {
          "base_uri": "https://localhost:8080/"
        },
        "id": "m-ZaIy-J6Bb1",
        "outputId": "eda3deba-1d96-41ca-f77a-05c8b139f83a"
      },
      "source": [
        "# Find the second nice basis vector:\n",
        "t3 = r3 - (r3.dot(u1)) * u1 - (r3.dot(u2)) * u2\n",
        "# Subtract off the nice basis vectors:\n",
        "\n",
        "# Find the size of t3:\n",
        "n3 = np.sqrt(t3.dot(t3))\n",
        "\n",
        "# So u3 = (1/n3) * t3\n",
        "u3 = (1/n3) * t3\n",
        "u3"
      ],
      "execution_count": null,
      "outputs": [
        {
          "output_type": "execute_result",
          "data": {
            "text/plain": [
              "array([-7.07106781e-01, -3.14018492e-16,  7.07106781e-01, -6.28036983e-16])"
            ]
          },
          "metadata": {},
          "execution_count": 12
        }
      ]
    },
    {
      "cell_type": "code",
      "metadata": {
        "colab": {
          "base_uri": "https://localhost:8080/"
        },
        "id": "7SDHhOam7IDE",
        "outputId": "87ddd3f7-5ecf-4d6d-91e8-80ac0de99063"
      },
      "source": [
        "print(\"The sqaured size of u3 = \", u3.dot(u3))\n",
        "print(\"u3*u1 =\", u3.dot(u1))\n",
        "print(\"u3*u2 =\", u3.dot(u2))"
      ],
      "execution_count": null,
      "outputs": [
        {
          "output_type": "stream",
          "name": "stdout",
          "text": [
            "The sqaured size of u3 =  0.9999999999999998\n",
            "u3*u1 = -1.0146536357569526e-17\n",
            "u3*u2 = -6.967444759389139e-16\n"
          ]
        }
      ]
    },
    {
      "cell_type": "code",
      "metadata": {
        "colab": {
          "base_uri": "https://localhost:8080/"
        },
        "id": "9XwOrYDe6Too",
        "outputId": "5633783d-02ec-431a-8bb2-24d14ffc2ad8"
      },
      "source": [
        "# Find the second nice basis vector:\n",
        "t4 = r4 - (r4.dot(u1)) * u1 - (r4.dot(u2)) * u2 - (r4.dot(u3)) * u3\n",
        "# Subtract off the nice basis vectors:\n",
        "\n",
        "# Find the size of t4:\n",
        "n4 = np.sqrt(t4.dot(t4))\n",
        "\n",
        "# So u4 = (1/n4) * t4\n",
        "u4 = (1/n4) * t4\n",
        "u4"
      ],
      "execution_count": null,
      "outputs": [
        {
          "output_type": "execute_result",
          "data": {
            "text/plain": [
              "array([-1.23168186e-16, -8.32050294e-01,  1.23168186e-16,  5.54700196e-01])"
            ]
          },
          "metadata": {},
          "execution_count": 16
        }
      ]
    },
    {
      "cell_type": "code",
      "metadata": {
        "colab": {
          "base_uri": "https://localhost:8080/"
        },
        "id": "Xwt77dTy7Vbu",
        "outputId": "acd994ca-cfbf-4650-b619-6ad2fa8721aa"
      },
      "source": [
        "print(\"The sqaured size of u4 = \", u4.dot(u4))\n",
        "print(\"u4*u1 =\", u4.dot(u1))\n",
        "print(\"u4*u2 =\", u4.dot(u2))\n",
        "print(\"u4*u3 =\", u4.dot(u3))"
      ],
      "execution_count": null,
      "outputs": [
        {
          "output_type": "stream",
          "name": "stdout",
          "text": [
            "The sqaured size of u4 =  1.0000000000000002\n",
            "u4*u1 = 4.3370130851795835e-33\n",
            "u4*u2 = -1.203390859898517e-15\n",
            "u4*u3 = 8.709305949236507e-17\n"
          ]
        }
      ]
    }
  ]
}